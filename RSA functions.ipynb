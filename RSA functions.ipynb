{
 "cells": [
  {
   "cell_type": "code",
   "execution_count": 3,
   "metadata": {},
   "outputs": [],
   "source": [
    "#integer이 소수인지 판별\n",
    "\n",
    "# def is_prime(integer: int):\n",
    "#     if integer <= 1:\n",
    "#         return False\n",
    "#     if integer%2 == 0:\n",
    "#         if integer == 2:\n",
    "#             return True\n",
    "#         return False\n",
    "#     squareint = int(integer**(1/2))\n",
    "#     for i in range(3, squareint + 1, 2): # 1 ~ √integer 까지의 홀수\n",
    "#         if integer%i == 0:\n",
    "#             return False\n",
    "#     return True\n",
    "\n",
    "def is_prime(n):\n",
    "    if n <= 1:\n",
    "        return False\n",
    "    for i in range(2, int(n**0.5) + 1):\n",
    "        if n % i == 0:\n",
    "            return False\n",
    "    return True"
   ]
  },
  {
   "cell_type": "code",
   "execution_count": 4,
   "metadata": {},
   "outputs": [],
   "source": [
    "# 범위 내 소수 생성\n",
    "\n",
    "import random\n",
    "\n",
    "# def generate_prime(min: int, max: int):\n",
    "#     primewannabe = 0\n",
    "#     while(not is_prime(primewannabe)):\n",
    "#         primewannabe = random.randint(min, max)\n",
    "#     return primewannabe\n",
    "\n",
    "def generate_random_prime(lower=400, upper=500):\n",
    "    while True:\n",
    "        num = random.randint(lower, upper)\n",
    "        if is_prime(num):\n",
    "            return num"
   ]
  },
  {
   "cell_type": "code",
   "execution_count": null,
   "metadata": {},
   "outputs": [],
   "source": [
    "def is_relative_prime(a: int, b: int):\n",
    "    '''RSA: checks whether [a] and [b] are relatively prime to each other\n",
    "    returns True when [a] and [b] are relative prime, else return False\n",
    "    requires function [is_prime]'''\n",
    "    \n",
    "    if a <= 0 or b <= 0:\n",
    "        print('Issue from [is_relative_prime] function: more than one value is not positive')\n",
    "        return False\n",
    "\n",
    "    high = max(a, b)\n",
    "    low = min(a, b)\n",
    "    \n",
    "    if low == 1 or high == low:\n",
    "        return True\n",
    "    \n",
    "    for i in range(2, low + 1):\n",
    "        if is_prime(i):\n",
    "            if low % i == 0 and high % i == 0:\n",
    "                return False\n",
    "            \n",
    "    return True\n",
    "\n",
    "def generate_relative_prime(subject: int, min: int, max: int) -> int:\n",
    "    '''RSA: returns relative prime to [subject] which is above [min], below [max]\n",
    "    requries function [is_relative_prime]'''\n",
    "    relprimewannabe = random.randint(min, max)\n",
    "    while(not is_relative_prime(subject, relprimewannabe)):\n",
    "        relprimewannabe = random.randint(min, max)\n",
    "    return relprimewannabe\n",
    "\n",
    "def phin_from(p: int, q: int) -> int:\n",
    "    '''RSA: calculates Φ(n) = ([p] - 1)([q] - 1)\n",
    "    checks whether [p] and [q] are prime before calculating, therefore requiring function [is_prime]'''\n",
    "    if not is_prime(p) or not is_prime(q):\n",
    "        print(\"Issue from [phin_from] function: more than one value is not prime\")\n",
    "        return -1\n",
    "    return (p-1)*(q-1)\n",
    "\n",
    "def d_from(e: int, phin: int):\n",
    "    '''RSA: calculates inverse of [e] in modular of [phin]\n",
    "    checks whether [e] and [phin] are relative prime before calculating, therefore requiring function [is_relative_prime]'''\n",
    "    if not is_relative_prime(e, phin):\n",
    "        print(\"Issue from [d_from] function: e and phin are not relative prime\")\n",
    "        return -1\n",
    "    for i in range(1, phin + 1): # planed to optimize this part with EEA, but cancelled\n",
    "        if e * i % phin == 1:\n",
    "            return i\n",
    "    return -2 #this should never happen\n",
    "\n",
    "def rsa_encryption(message, e, n):\n",
    "    '''RSA: encrypts given [message] with using public key pair ([e], [n])'''\n",
    "    if message > n:\n",
    "        print(\"Issue from [rsa_encryption] function: message is too long to encrypt\")\n",
    "        return -1\n",
    "    return message**e % n\n",
    "\n",
    "def rsa_decryption(encyrpted_message, d, n):\n",
    "    '''RSA: decrypes given [encyrpted_message] with using private key pair ([d], [n])'''\n",
    "    return encyrpted_message**d % n\n",
    "\n",
    "def validate_rsa_keypair(d: int, e: int, pien: int) -> bool:\n",
    "    '''RSA: validates whether public key [d], private key [e], and Φ(n) [pien]'''\n",
    "    return d*e % pien == 1"
   ]
  },
  {
   "cell_type": "code",
   "execution_count": null,
   "metadata": {},
   "outputs": [],
   "source": [
    "def keygen(p: int = None, q: int = None, p_min: int = 400, p_max: int = 500, e: int = None) -> tuple:\n",
    "    '''RSA: generates [e], [d], [n] = p * q, [p], [q]'''\n",
    "    if q != None and p == None:\n",
    "        p, q = q, p\n",
    "    if p == None:\n",
    "        p = generate_random_prime(lower = p_min, upper = p_max)\n",
    "    if q == None:\n",
    "        q = generate_random_prime(lower = p_min, upper = p_max)\n",
    "    phi_n = phin_from(p, q)\n",
    "    if e == None:\n",
    "        e = generate_relative_prime(phi_n, 1, phi_n)\n",
    "    return (e, d_from(e, phi_n), p*q, p, q)"
   ]
  },
  {
   "cell_type": "code",
   "execution_count": 30,
   "metadata": {},
   "outputs": [
    {
     "data": {
      "text/plain": [
       "(17111, 81191, 201659, 479, 421)"
      ]
     },
     "execution_count": 30,
     "metadata": {},
     "output_type": "execute_result"
    }
   ],
   "source": [
    "keygen()"
   ]
  },
  {
   "cell_type": "code",
   "execution_count": null,
   "metadata": {},
   "outputs": [],
   "source": []
  }
 ],
 "metadata": {
  "kernelspec": {
   "display_name": "Python 3",
   "language": "python",
   "name": "python3"
  },
  "language_info": {
   "codemirror_mode": {
    "name": "ipython",
    "version": 3
   },
   "file_extension": ".py",
   "mimetype": "text/x-python",
   "name": "python",
   "nbconvert_exporter": "python",
   "pygments_lexer": "ipython3",
   "version": "3.12.0"
  }
 },
 "nbformat": 4,
 "nbformat_minor": 2
}
