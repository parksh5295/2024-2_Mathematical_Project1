{
 "cells": [
  {
   "cell_type": "markdown",
   "metadata": {},
   "source": [
    "Selecting File"
   ]
  },
  {
   "cell_type": "code",
   "execution_count": 1,
   "metadata": {},
   "outputs": [
    {
     "name": "stdout",
     "output_type": "stream",
     "text": [
      "C:/Users/paste/OneDrive/바탕 화면/CSmatS/B-side/adv_protocol_two.log\n"
     ]
    }
   ],
   "source": [
    "# https://stackoverflow.com/questions/3579568/choosing-a-file-in-python-with-simple-dialog\n",
    "\n",
    "from tkinter import Tk     # from tkinter import Tk for Python 3.x\n",
    "from tkinter.filedialog import askopenfilename\n",
    "\n",
    "Tk().withdraw() # we don't want a full GUI, so keep the root window from appearing\n",
    "filename = askopenfilename() # show an \"Open\" dialog box and return the path to the selected file\n",
    "print(filename)"
   ]
  },
  {
   "cell_type": "markdown",
   "metadata": {},
   "source": [
    "Open content"
   ]
  },
  {
   "cell_type": "code",
   "execution_count": 2,
   "metadata": {},
   "outputs": [
    {
     "name": "stdout",
     "output_type": "stream",
     "text": [
      "{\"opcode\": 0, \"type\": \"RSA\"}\n",
      "{\"opcode\": 1, \"type\": \"RSA\", \"public\": 41669, \"parameter\": {\"n\": 194477}}\n",
      "{\"opcode\": 2, \"type\": \"RSA\", \"encrypted_key\": [79145, 119027, 1981, 90654, 133728, 170717, 9040, 7654, 175504, 61889, 99610, 161410, 62799, 12557, 170726, 117589, 52317, 116597, 61889, 107515, 99468, 168759, 159597, 177359, 144894, 91329, 173097, 97103, 110315, 68256, 180874, 140635]}\n",
      "{\"opcode\": 2, \"type\": \"AES\", \"encryption\": \"F1PwMZ387D31dJ0fyCmZBA==\"}\n",
      "[{'opcode': 0, 'type': 'RSA'}, {'opcode': 1, 'type': 'RSA', 'public': 41669, 'parameter': {'n': 194477}}, {'opcode': 2, 'type': 'RSA', 'encrypted_key': [79145, 119027, 1981, 90654, 133728, 170717, 9040, 7654, 175504, 61889, 99610, 161410, 62799, 12557, 170726, 117589, 52317, 116597, 61889, 107515, 99468, 168759, 159597, 177359, 144894, 91329, 173097, 97103, 110315, 68256, 180874, 140635]}, {'opcode': 2, 'type': 'AES', 'encryption': 'F1PwMZ387D31dJ0fyCmZBA=='}]\n"
     ]
    }
   ],
   "source": [
    "# from my Advent of Code 2024 codes\n",
    "\n",
    "# 파일을 읽기 모드로 열기\n",
    "file = open(filename, \"r\")\n",
    "\n",
    "# 파일 내용 읽기\n",
    "content = file.read()\n",
    "\n",
    "# 파일 닫기\n",
    "file.close()\n",
    "\n",
    "# 읽은 내용 출력\n",
    "print(content)\n",
    "\n",
    "content_list_str = list(map(str, content.split(\"\\n\")))\n",
    "\n",
    "while content_list_str[-1] == '': # remove unintended line break\n",
    "    content_list_str = content_list_str[0: -1] # wow recursive programming moment\n",
    "\n",
    "content_list = []\n",
    "\n",
    "for i in range(len(content_list_str)):\n",
    "    content_list.append(dict(eval(content_list_str[i]))) # I knew this would be much better with json library at this point\n",
    "\n",
    "print(content_list)\n",
    "#len(content_list)"
   ]
  },
  {
   "cell_type": "markdown",
   "metadata": {},
   "source": [
    "Checks whether given json follows the example format"
   ]
  },
  {
   "cell_type": "code",
   "execution_count": 3,
   "metadata": {},
   "outputs": [],
   "source": [
    "def line_validity_check(target_list: list, line_number: int, opcode: int, typ: str, additional_keys: list = []): # type is a function so could not use exact word\n",
    "    error_list = []\n",
    "    target = target_list[line_number]\n",
    "    \n",
    "    keys = target.keys()\n",
    "    \n",
    "    if \"opcode\" in keys:\n",
    "        if target[\"opcode\"] != opcode:\n",
    "            error_list.append(f\"unpredicted opcode (!= {opcode})\")\n",
    "    else:\n",
    "        error_list.append(\"missing opcode\")\n",
    "    if \"type\" in keys:\n",
    "        if target[\"type\"] != typ:\n",
    "            error_list.append(f\"unpredicted type (!= {typ})\")\n",
    "    else:\n",
    "        error_list.append(\"missing type\")\n",
    "    \n",
    "    for key in additional_keys:\n",
    "        if key not in keys:\n",
    "            error_list.append(f\"missing {key}\")\n",
    "    \n",
    "    # no need to handle when keys not mentioned in additional_keys are in target ig\n",
    "    \n",
    "    return error_list"
   ]
  },
  {
   "cell_type": "code",
   "execution_count": 4,
   "metadata": {},
   "outputs": [],
   "source": [
    "def json_validity_check(target: list):\n",
    "    if len(target) < 4:\n",
    "        print(\"incomplete json that does not contain enough information to decode messages\")\n",
    "        return False\n",
    "    \n",
    "    l0 = line_validity_check(target, 0, 0, \"RSA\")\n",
    "    l1 = line_validity_check(target, 1, 1, \"RSA\", [\"public\", \"parameter\"])\n",
    "    l2 = line_validity_check(target, 2, 2, \"RSA\", [\"encrypted_key\"])\n",
    "    for i in range(3, len(target)): # handling multiple messages\n",
    "        exec(f\"l{i} = line_validity_check(target, {i}, 2, \\\"AES\\\", [\\\"encryption\\\"])\")\n",
    "    \n",
    "    turnagain = True\n",
    "    for i in range(len(target)):\n",
    "        current = eval(f\"l{i}\")\n",
    "        if current != []:\n",
    "            print(f\"error in line {i}\\n{target[i]}\\n{str(current)[1:-1].replace('\\'', '')}\") # removing bracket and single quote (why did I waste time here)\n",
    "            turnagain = False\n",
    "    return turnagain # re-turn haha I'm funny..."
   ]
  },
  {
   "cell_type": "code",
   "execution_count": 5,
   "metadata": {},
   "outputs": [
    {
     "data": {
      "text/plain": [
       "True"
      ]
     },
     "execution_count": 5,
     "metadata": {},
     "output_type": "execute_result"
    }
   ],
   "source": [
    "json_validity_check(content_list)"
   ]
  },
  {
   "cell_type": "markdown",
   "metadata": {},
   "source": [
    "Find key values"
   ]
  },
  {
   "cell_type": "code",
   "execution_count": 6,
   "metadata": {},
   "outputs": [],
   "source": [
    "# written by parksh5295\n",
    "\n",
    "def is_prime(n):\n",
    "    if n <= 1:\n",
    "        return False\n",
    "    for i in range(2, int(n**0.5) + 1):\n",
    "        if n % i == 0:\n",
    "            return False\n",
    "    return True"
   ]
  },
  {
   "cell_type": "code",
   "execution_count": 7,
   "metadata": {},
   "outputs": [],
   "source": [
    "def find_pq(n: int, p_min: int = 400, p_max: int = 500) -> list:\n",
    "    for p in range(p_min, p_max + 1):\n",
    "        if is_prime(p):\n",
    "            if n % p == 0:\n",
    "                q = int(n / p)\n",
    "                if is_prime(q):\n",
    "                    return [p, q] # few of handlings seems unnessary, but just in case\n",
    "    print(\"could not find p and q in given range\")\n",
    "    return False"
   ]
  },
  {
   "cell_type": "code",
   "execution_count": 8,
   "metadata": {},
   "outputs": [],
   "source": [
    "def is_relative_prime(a: int, b: int):\n",
    "    '''RSA: checks whether [a] and [b] are relatively prime to each other\n",
    "    returns True when [a] and [b] are relative prime, else return False\n",
    "    requires function [is_prime]'''\n",
    "    \n",
    "    if a <= 0 or b <= 0:\n",
    "        print('Issue from [is_relative_prime] function: more than one value is not positive')\n",
    "        return False\n",
    "\n",
    "    high = max(a, b)\n",
    "    low = min(a, b)\n",
    "    \n",
    "    if low == 1 or high == low:\n",
    "        return True\n",
    "    \n",
    "    for i in range(2, low + 1):\n",
    "        if is_prime(i):\n",
    "            if low % i == 0 and high % i == 0:\n",
    "                return False\n",
    "            \n",
    "    return True\n",
    "\n",
    "def d_from(e: int, phin: int):\n",
    "    '''RSA: calculates inverse of [e] in modular of [phin]\n",
    "    checks whether [e] and [phin] are relative prime before calculating, therefore requiring function [is_relative_prime]'''\n",
    "    if not is_relative_prime(e, phin):\n",
    "        print(\"Issue from [d_from] function: e and phin are not relative prime\")\n",
    "        return -1\n",
    "    for i in range(1, phin + 1): # planed to optimize this part with EEA, but cancelled\n",
    "        if e * i % phin == 1:\n",
    "            return i\n",
    "    return -2 #this should never happen"
   ]
  },
  {
   "cell_type": "code",
   "execution_count": 9,
   "metadata": {},
   "outputs": [],
   "source": [
    "n = dict(content_list[1][\"parameter\"])[list(dict(content_list[1][\"parameter\"]).keys())[0]] # yeah I love few unreasonably long line when coding\n",
    "\n",
    "p, q = find_pq(n)\n",
    "\n",
    "e = content_list[1][\"public\"]\n",
    "\n",
    "d = d_from(e, (p - 1)*(q - 1))\n",
    "\n",
    "if not is_relative_prime(e, (p - 1)*(q - 1)):\n",
    "    print(\"somehow e and phi_n is not relative prime\")"
   ]
  },
  {
   "cell_type": "markdown",
   "metadata": {},
   "source": [
    "Decryptes key list"
   ]
  },
  {
   "cell_type": "code",
   "execution_count": 10,
   "metadata": {},
   "outputs": [],
   "source": [
    "def rsa_decryption(encyrpted_message, d, n):\n",
    "    '''RSA: decrypes given [encyrpted_message] with using private key pair ([d], [n])'''\n",
    "    return encyrpted_message**d % n"
   ]
  },
  {
   "cell_type": "code",
   "execution_count": 11,
   "metadata": {},
   "outputs": [
    {
     "name": "stdout",
     "output_type": "stream",
     "text": [
      "b'pF\\xa9\\x07v\\x1c\\xfc\\xe1}\\xb9&af\\xc9\\x84l\\x81O\\xb9\\xae\\x98\\xddB\\xb3\\x15\\xa3r\\x0cn\\xb0\\x97\\xca'\n"
     ]
    }
   ],
   "source": [
    "encrypkeyed = content_list[2][\"encrypted_key\"]\n",
    "\n",
    "# print(len(encrypkeyed))\n",
    "\n",
    "decrypted_key_list = []\n",
    "\n",
    "for i in encrypkeyed:\n",
    "    decrypted_key_list.append(rsa_decryption(i, d, n))\n",
    "    \n",
    "decrypted_key = bytes(decrypted_key_list)\n",
    "print(decrypted_key)"
   ]
  },
  {
   "cell_type": "markdown",
   "metadata": {},
   "source": [
    "Finding the message"
   ]
  },
  {
   "cell_type": "code",
   "execution_count": 12,
   "metadata": {},
   "outputs": [],
   "source": [
    "# from example\n",
    "\n",
    "from Crypto.Cipher import AES\n",
    "import base64\n",
    "\n",
    "def decrypt_aes(key, encrypted):\n",
    "    \"\"\"Decrypt a message using AES-ECB.\"\"\"\n",
    "    aes = AES.new(key, AES.MODE_ECB)\n",
    "    decrypted = aes.decrypt(base64.b64decode(encrypted))\n",
    "    return decrypted.rstrip(decrypted[-1:]).decode()"
   ]
  },
  {
   "cell_type": "code",
   "execution_count": null,
   "metadata": {},
   "outputs": [
    {
     "name": "stdout",
     "output_type": "stream",
     "text": [
      "mathematics\n"
     ]
    }
   ],
   "source": [
    "for i in range(3, len(content_list)):\n",
    "    print(decrypt_aes(decrypted_key, content_list[i][\"encryption\"])) # I was looking forward for some more dramatic message"
   ]
  }
 ],
 "metadata": {
  "kernelspec": {
   "display_name": "Python 3",
   "language": "python",
   "name": "python3"
  },
  "language_info": {
   "codemirror_mode": {
    "name": "ipython",
    "version": 3
   },
   "file_extension": ".py",
   "mimetype": "text/x-python",
   "name": "python",
   "nbconvert_exporter": "python",
   "pygments_lexer": "ipython3",
   "version": "3.12.0"
  }
 },
 "nbformat": 4,
 "nbformat_minor": 2
}
