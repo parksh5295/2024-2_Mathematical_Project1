{
 "cells": [
  {
   "cell_type": "code",
   "execution_count": 17,
   "metadata": {},
   "outputs": [
    {
     "name": "stdout",
     "output_type": "stream",
     "text": [
      "C:/Users/paste/OneDrive/바탕 화면/CSmatS/B-side/adv_protocol_three.log\n"
     ]
    }
   ],
   "source": [
    "# https://stackoverflow.com/questions/3579568/choosing-a-file-in-python-with-simple-dialog\n",
    "\n",
    "from tkinter import Tk     # from tkinter import Tk for Python 3.x\n",
    "from tkinter.filedialog import askopenfilename\n",
    "\n",
    "Tk().withdraw() # we don't want a full GUI, so keep the root window from appearing\n",
    "filename = askopenfilename() # show an \"Open\" dialog box and return the path to the selected file\n",
    "print(filename)"
   ]
  },
  {
   "cell_type": "code",
   "execution_count": 18,
   "metadata": {},
   "outputs": [
    {
     "name": "stdout",
     "output_type": "stream",
     "text": [
      "{\"opcode\": 0, \"type\": \"DH\"}\n",
      "{\"opcode\": 1, \"type\": \"DH\", \"public\": 285, \"parameter\": {\"p\": 401, \"g\": 347}}\n",
      "{\"opcode\": 1, \"type\": \"DH\", \"public\": 229}\n",
      "{\"opcode\": 2, \"type\": \"AES\", \"encryption\": \"XNymQOrj5AYfV47sDlqf6w==\"}\n",
      "{\"opcode\": 2, \"type\": \"AES\", \"encryption\": \"8vbNPdLVl+VGgDL0aknz3w==\"}\n",
      "['{\"opcode\": 0, \"type\": \"DH\"}', '{\"opcode\": 1, \"type\": \"DH\", \"public\": 285, \"parameter\": {\"p\": 401, \"g\": 347}}', '{\"opcode\": 1, \"type\": \"DH\", \"public\": 229}', '{\"opcode\": 2, \"type\": \"AES\", \"encryption\": \"XNymQOrj5AYfV47sDlqf6w==\"}', '{\"opcode\": 2, \"type\": \"AES\", \"encryption\": \"8vbNPdLVl+VGgDL0aknz3w==\"}']\n"
     ]
    },
    {
     "data": {
      "text/plain": [
       "5"
      ]
     },
     "execution_count": 18,
     "metadata": {},
     "output_type": "execute_result"
    }
   ],
   "source": [
    "# from my Advent of Code 2024 codes\n",
    "\n",
    "# 파일을 읽기 모드로 열기\n",
    "file = open(filename, \"r\")\n",
    "\n",
    "# 파일 내용 읽기\n",
    "content = file.read()\n",
    "\n",
    "# 파일 닫기\n",
    "file.close()\n",
    "\n",
    "# 읽은 내용 출력\n",
    "print(content)\n",
    "\n",
    "content_list = list(map(str, content.split(\"\\n\")))\n",
    "\n",
    "print(content_list)\n",
    "len(content_list)"
   ]
  },
  {
   "cell_type": "code",
   "execution_count": 19,
   "metadata": {},
   "outputs": [],
   "source": [
    "# 아래 내용 실행 중 오류 발생 시 아래 값을 바꿈\n",
    "error_location = -1\n",
    "error = None"
   ]
  },
  {
   "cell_type": "code",
   "execution_count": 16,
   "metadata": {},
   "outputs": [
    {
     "name": "stdout",
     "output_type": "stream",
     "text": [
      "dict_keys(['opcode', 'type'])\n",
      "opcode\n",
      "type\n"
     ]
    }
   ],
   "source": [
    "first_line = eval(content_list[0]) # str -> dict\n",
    "\n",
    "kie = first_line.keys()\n",
    "\n",
    "print(kie)\n",
    "for k in kie:\n",
    "    print(k)"
   ]
  },
  {
   "cell_type": "code",
   "execution_count": 20,
   "metadata": {},
   "outputs": [
    {
     "name": "stdout",
     "output_type": "stream",
     "text": [
      "['{\"opcode\": 0, \"type\": \"DH\"}', '{\"opcode\": 1, \"type\": \"DH\", \"public\": 285, \"parameter\": {\"p\": 401, \"g\": 347}}', '{\"opcode\": 1, \"type\": \"DH\", \"public\": 229}', '{\"opcode\": 2, \"type\": \"AES\", \"encryption\": \"XNymQOrj5AYfV47sDlqf6w==\"}', '{\"opcode\": 2, \"type\": \"AES\", \"encryption\": \"8vbNPdLVl+VGgDL0aknz3w==\"}']\n",
      "0\n",
      "{'opcode': 0, 'type': 'DH'}\n",
      "1\n",
      "{'opcode': 1, 'type': 'DH', 'public': 285, 'parameter': {'p': 401, 'g': 347}}\n",
      "2\n",
      "{'opcode': 1, 'type': 'DH', 'public': 229}\n",
      "3\n",
      "{'opcode': 2, 'type': 'AES', 'encryption': 'XNymQOrj5AYfV47sDlqf6w=='}\n",
      "4\n",
      "{'opcode': 2, 'type': 'AES', 'encryption': '8vbNPdLVl+VGgDL0aknz3w=='}\n"
     ]
    }
   ],
   "source": [
    "print(content_list)\n",
    "\n",
    "for i in range(0, len(content_list)):\n",
    "    print(i)\n",
    "    print(eval(eval(f\"content_list[{i}]\")))"
   ]
  },
  {
   "cell_type": "code",
   "execution_count": 29,
   "metadata": {},
   "outputs": [],
   "source": [
    "def line_validity_check(target_list: list, line_number: int, opcode: int, typ: str, additional_keys: list = []): # type is a function so could not use exact word\n",
    "    error_list = []\n",
    "    target = eval(target_list[line_number])\n",
    "    \n",
    "    keys = target.keys()\n",
    "    \n",
    "    if \"opcode\" in keys:\n",
    "        if target[\"opcode\"] != opcode:\n",
    "            error_list.append(f\"unpredicted opcode (!= {opcode})\")\n",
    "    else:\n",
    "        error_list.append(\"missing opcode\")\n",
    "    if \"type\" in keys:\n",
    "        if target[\"type\"] != typ:\n",
    "            error_list.append(f\"unpredicted type (!= {typ})\")\n",
    "    else:\n",
    "        error_list.append(\"missing type\")\n",
    "    \n",
    "    for key in additional_keys:\n",
    "        if key not in keys:\n",
    "            error_list.append(f\"missing {key}\")\n",
    "    \n",
    "    # no need to handle when keys not mentioned in additional_keys are in target, ig\n",
    "    \n",
    "    return error_list"
   ]
  },
  {
   "cell_type": "code",
   "execution_count": null,
   "metadata": {},
   "outputs": [],
   "source": [
    "def json_validity_check(target: list):\n",
    "    if len(target) < 4:\n",
    "        print(\"incomplete json that does not contain enough information to decode messages\")\n",
    "        return False\n",
    "    \n",
    "    l0 = line_validity_check(target, 0, 0, \"RSA\")\n",
    "    l1 = line_validity_check(target, 1, 1, \"RSA\", [\"public\", \"parameter\"])\n",
    "    l2 = line_validity_check(target, 2, 2, \"RSA\", [\"encrypted_key\"])\n",
    "    for i in range(3, len(target)): # handling multiple messages\n",
    "        exec(f\"l{i} = line_validity_check(target, {i}, 2, \\\"AES\\\", [\\\"encryption\\\"])\")\n",
    "    \n",
    "    turnagain = True\n",
    "    for i in range(len(target)):\n",
    "        current = eval(f\"l{i}\")\n",
    "        if current != []:\n",
    "            print(f\"error in line {i}\\n{target[i]}\\n{str(current)[1:-1].replace('\\'', '')}\") # removing bracket and single quote (why did I waste time here)\n",
    "            turnagain = False\n",
    "    return turnagain # re-turn haha I'm funny..."
   ]
  },
  {
   "cell_type": "code",
   "execution_count": 31,
   "metadata": {},
   "outputs": [
    {
     "name": "stdout",
     "output_type": "stream",
     "text": [
      "error in line 0\n",
      "{\"opcode\": 0, \"type\": \"DH\"}\n",
      "unpredicted type (!= RSA)\n",
      "error in line 1\n",
      "{\"opcode\": 1, \"type\": \"DH\", \"public\": 285, \"parameter\": {\"p\": 401, \"g\": 347}}\n",
      "unpredicted type (!= RSA)\n",
      "error in line 2\n",
      "{\"opcode\": 1, \"type\": \"DH\", \"public\": 229}\n",
      "unpredicted opcode (!= 2), unpredicted type (!= RSA), missing encrypted_key\n"
     ]
    },
    {
     "data": {
      "text/plain": [
       "False"
      ]
     },
     "execution_count": 31,
     "metadata": {},
     "output_type": "execute_result"
    }
   ],
   "source": [
    "json_validity_check(content_list)"
   ]
  },
  {
   "cell_type": "code",
   "execution_count": null,
   "metadata": {},
   "outputs": [],
   "source": []
  }
 ],
 "metadata": {
  "kernelspec": {
   "display_name": "Python 3",
   "language": "python",
   "name": "python3"
  },
  "language_info": {
   "codemirror_mode": {
    "name": "ipython",
    "version": 3
   },
   "file_extension": ".py",
   "mimetype": "text/x-python",
   "name": "python",
   "nbconvert_exporter": "python",
   "pygments_lexer": "ipython3",
   "version": "3.12.0"
  }
 },
 "nbformat": 4,
 "nbformat_minor": 2
}
